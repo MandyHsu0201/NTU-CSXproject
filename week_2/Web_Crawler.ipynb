{
 "cells": [
  {
   "cell_type": "markdown",
   "metadata": {},
   "source": [
    "### JavaScript is the programming language of HTML and the Web.\n",
    "### JSON(JavaScript Object Notation) 是一种轻量级的数据交换格式，易于人阅读和编写。"
   ]
  },
  {
   "cell_type": "markdown",
   "metadata": {},
   "source": [
    "## 需先引入json package，為何需要json?因為\n",
    "### import json\n",
    "### json.dumps\t将 Python 对象编码成 JSON 字符串\n",
    "### json.loads\t将已编码的 JSON 字符串解码为 Python 对象\n"
   ]
  },
  {
   "cell_type": "code",
   "execution_count": 8,
   "metadata": {},
   "outputs": [
    {
     "name": "stdout",
     "output_type": "stream",
     "text": [
      "[{\"a\": 1, \"b\": 2, \"c\": 3, \"d\": 4, \"e\": 5}]\n"
     ]
    }
   ],
   "source": [
    "#try json function 1:dump\n",
    "#!/usr/bin/python\n",
    "import json\n",
    "data = [ { 'a' : 1, 'b' : 2, 'c' : 3, 'd' : 4, 'e' : 5 } ]\n",
    "json = json.dumps(data)\n",
    "print(json)"
   ]
  },
  {
   "cell_type": "code",
   "execution_count": 7,
   "metadata": {},
   "outputs": [
    {
     "name": "stdout",
     "output_type": "stream",
     "text": [
      "{'a': 1, 'b': 2, 'c': 3, 'd': 4, 'e': 5}\n"
     ]
    }
   ],
   "source": [
    "#try json function 2:loads\n",
    "#!/usr/bin/python\n",
    "import json\n",
    "\n",
    "jsonData = '{\"a\":1,\"b\":2,\"c\":3,\"d\":4,\"e\":5}';\n",
    "\n",
    "text = json.loads(jsonData)\n",
    "print(text)"
   ]
  },
  {
   "cell_type": "markdown",
   "metadata": {},
   "source": [
    "# 爬蟲的步驟\n",
    "\n",
    "## Step1:觀察網站是靜態還是動態\n",
    "## Step2:觀察網站的 css與 xpath結構 (靜態) 或 network活動(動態) 並進行爬取\n",
    "## Step3:利用 pandas處理資料\n",
    "## Step4:存入 csv或 databas\n",
    "\n",
    "## 常用PACKAGE為BeautifulSoup,requests,PyQuery\n",
    "## 搜尋某物品後，有的網頁是使用NEXT來得到更多資訊，有的是滑鼠不斷往下即可，兩者爬取網頁方式會不同??\n",
    "\n",
    "##擷取網頁的方式有get和post，get像明信片，\n",
    "\n",
    "post是另一種HTTP 請求方法，讓你可以將請求資訊包裝起來後，再送至伺服器以取得回應資訊，在Python 中使用POST 的方法一樣簡單，只需將請求資訊以字典做包裝即可，就像內容寫在信紙包在信封內，所以需要另外將其他資訊放入\n",
    "\n"
   ]
  },
  {
   "cell_type": "code",
   "execution_count": 9,
   "metadata": {},
   "outputs": [],
   "source": [
    " #1.Requests 網路資源(URLs)擷取套件 2. BeautifulSoup4 HTML剖析套件"
   ]
  },
  {
   "cell_type": "code",
   "execution_count": 6,
   "metadata": {},
   "outputs": [],
   "source": [
    "#import package we need to use.\n",
    "import requests\n",
    "from bs4 import BeautifulSoup"
   ]
  },
  {
   "cell_type": "code",
   "execution_count": 7,
   "metadata": {},
   "outputs": [
    {
     "name": "stdout",
     "output_type": "stream",
     "text": [
      "200\n"
     ]
    }
   ],
   "source": [
    "#ex1:使用get去取得url的資訊\n",
    "#從Google瀏覽器的檢查可以知道取得html要用get方法以及需要的網址(網頁按右鍵的\"檢查\"後\\network\\XHR\\headers\\general會顯示get,status code:200)\n",
    "url = 'https://s.taobao.com/api?_ksTS=1520774362687_226&callback=jsonp227&ajax=true&m=customized&q=%E4%BF%9D%E6%BA%AB%E6%9D%AF&spm=a21wu.241046-tw.a2227oh.d100&catId=100&s=36&bcoffset=0&tmhkh5=&from=sea_1_searchbutton&type=p&rn=72eb576472dff98d7e02bdd7742ec630'\n",
    "res = requests.get(url)\n",
    "#確定可以讀取到網頁\n",
    "print(res.status_code)\n"
   ]
  },
  {
   "cell_type": "code",
   "execution_count": 8,
   "metadata": {},
   "outputs": [
    {
     "name": "stdout",
     "output_type": "stream",
     "text": [
      "\n",
      "\n",
      "jsonp227({\"API.CustomizedApi\":{\"itemlist\":{\"auctions\":[{\"i2iTags\":{\"samestyle\":{\"url\":\"\"},\"similar\":{\"url\":\"/search?type\\u003dsimilar\\u0026app\\u003di2i\\u0026rec_type\\u003d1\\u0026uniqpid\\u003d\\u0026nid\\u003d41534159127\"}},\"p4pTags\":[],\"nid\":\"41534159127\",\"category\":\"50006889\",\"pid\":\"\",\"title\":\"富光\\u003cspan class\\u003dH\\u003e保温\\u003c/span\\u003e\\u003cspan class\\u003dH\\u003e杯\\u003c/span\\u003e男女士大容量儿童水\\u003cspan class\\u003dH\\u003e杯\\u003c/span\\u003e304不锈钢500ml便携户外\\u003cspan class\\u003dH\\u003e杯\\u003c/span\\u003e子学生\",\"raw_title\":\"富光保温杯男女士大容量儿童水杯304不锈钢500ml便携户外杯子学生\",\"pic_url\":\"//g-search1.alicdn.com/img/bao/uploaded/i4/i1/341393033/TB1Isu2XuySBuNjy1zdXXXPxFXa_!!0-item_pic.jpg\",\"detail_url\":\"//detail.tmall.com/item.htm?id\\u003d41534159127\\u0026ns\\u003d1\\u0026abbucket\\u003d0\",\"view_price\":\"39.90\",\"view_fee\":\"0.00\",\"item_loc\":\"安徽 合肥\",\"view_sales\":\"32993人付款\",\"comment_count\":\"465384\",\"user_id\":\"341393033\",\"nick\":\"富光旗舰店\",\"shopcard\":{\"levelClasses\":[{\"levelClass\":\"icon-supple-level-jinguan\"},{\"levelClass\":\"icon-supple-level-jinguan\"},{\"levelClass\":\"icon-supple-level-jinguan\"}],\"isTmall\":true,\"delivery\":[480,0,0],\"description\":[484,0,0],\"service\":[480,0,0],\"encryptedUserId\":\"UvGQYvGkGvmvG\",\"sellerCredit\":18,\"totalRate\":10000},\"icon\":[{\"title\":\"尚天猫，就购了\",\"dom_class\":\"icon-service-tianmao\",\"position\":\"1\",\"show_type\":\"0\",\"icon_category\":\"baobei\",\"outer_text\":\"0\",\"html\":\"\",\"icon_key\":\"icon-service-tianmao\",\"trace\":\"srpservice\",\"innerText\":\"天猫宝贝\",\"url\":\"//www.tmall.com/\"},{\"title\":\"保险理赔\",\"dom_class\":\"icon-service-baoxian\",\"position\":\"99\",\"show_type\":\"1\",\"icon_category\":\"baobei\",\"outer_text\":\"0\",\"html\":\"\",\"icon_key\":\"icon-service-baoxian\",\"trace\":\"srpservice\",\"innerText\":\"分组-保险理赔\",\"iconPopupComplex\":{\"popup_title\":\"保险理赔\",\"subIcons\":[{\"dom_class\":\"icon-service-yunfeixian\",\"icon_content\":\"卖家赠送退货运费险\"}]}}],\"comment_url\":\"//detail.tmall.com/item.htm?id\\u003d41534159127\\u0026ns\\u003d1\\u0026abbucket\\u003d0\\u0026on_comment\\u003d1\",\"shopLink\":\"//store.taobao.com/shop/view_shop.htm?user_number_id\\u003d341393033\",\"risk\":\"\"},{\"i2iTags\":{\"samestyle\":{\"url\":\"\"},\"similar\":{\"url\":\"/search?type\\u003dsimilar\\u0026app\\u003di2i\\u0026rec_type\\u003d1\\u0026uniqpid\\u003d\\u0026nid\\u003d550971128615\"}},\"p4pTags\":[],\"nid\":\"550971128615\",\"category\":\"50024781\",\"pid\":\"\",\"title\":\"琪虎不锈钢\\u003cspan class\\u003dH\\u003e保温\\u003c/span\\u003e壶户外\\u003cspan class\\u003dH\\u003e保温\\u003c/span\\u003e\\u003cspan class\\u003dH\\u003e杯\\u003c/span\\u003e大容量家用水瓶车载热水壶暖壶便携4L\",\"raw_title\":\"琪虎不锈钢保温壶户外保温杯大容量家用水瓶车载热水壶暖壶便携4L\",\"pic_url\":\"//g-search3.alicdn.com/img/bao/uploaded/i4/i4/2091203653/TB19byZkZnI8KJjSspeXXcwIpXa_!!0-item_pic.jpg\",\"detail_url\":\"//detail.tmall.com/item.htm?id\\u003d550971128615\\u0026ns\\u003d1\\u0026abbucket\\u003d0\",\"view_price\":\"139.00\",\"view_fee\":\"0.00\",\"item_loc\":\"浙江 杭州\",\"view_sales\":\"2504人付款\",\"comment_count\":\"10254\",\"user_id\":\"2091203653\",\"nick\":\"琪虎旗舰店\",\"shopcard\":{\"levelClasses\":[{\"levelClass\":\"icon-supple-level-guan\"},{\"levelClass\":\"icon-supple-level-guan\"},{\"levelClass\":\"icon-supple-level-guan\"}],\"isTmall\":true,\"delivery\":[484,1,2270],\"description\":[491,1,3363],\"service\":[487,1,2675],\"encryptedUserId\":\"UvCNSvFIWvGxbvWTT\",\"sellerCredit\":13,\"totalRate\":10000},\"icon\":[{\"title\":\"尚天猫，就购了\",\"dom_class\":\"icon-service-tianmao\",\"position\":\"1\",\"show_type\":\"0\",\"icon_category\":\"baobei\",\"outer_text\":\"0\",\"html\":\"\",\"icon_key\":\"icon-service-tianmao\",\"trace\":\"srpservice\",\"innerText\":\"天猫宝贝\",\"url\":\"//www.tmall.com/\"},{\"title\":\"保险理赔\",\"dom_class\":\"icon-service-baoxian\",\"position\":\"99\",\"show_type\":\"1\",\"icon_category\":\"baobei\",\"outer_text\":\"0\",\"html\":\"\",\"icon_key\":\"icon-service-baoxian\",\"trace\":\"srpservice\",\"innerText\":\"分组-保险理赔\",\"iconPopupComplex\":{\"popup_title\":\"保险理赔\",\"subIcons\":[{\"dom_class\":\"icon-service-yunfeixian\",\"icon_content\":\"卖家赠送退货运费险\"}]}}],\"comment_url\":\"//detail.tmall.com/item.htm?id\\u003d550971128615\\u0026ns\\u003d1\\u0026abbucket\\u003d0\\u0026on_comment\\u003d1\",\"shopLink\":\"//store.taobao.com/shop/view_shop.htm?user_number_id\\u003d2091203653\",\"risk\":\"\"},{\"i2iTags\":{\"samestyle\":{\"url\":\"\"},\"similar\":{\"url\":\"/search?type\\u003dsimilar\\u0026app\\u003di2i\\u0026rec_type\\u003d1\\u0026uniqpid\\u003d\\u0026nid\\u003d563773404931\"}},\"p4pTags\":[],\"nid\":\"563773404931\",\"category\":\"50006889\",\"pid\":\"\",\"title\":\"银\\u003cspan class\\u003dH\\u003e杯\\u003c/span\\u003e子999纯银 保健\\u003cspan class\\u003dH\\u003e杯\\u003c/span\\u003e养生\\u003cspan class\\u003dH\\u003e保温\\u003c/span\\u003e\\u003cspan class\\u003dH\\u003e杯\\u003c/span\\u003e商务男女士高档礼品内胆纯银水\\u003cspan class\\u003dH\\u003e杯\\u003c/span\\u003e\",\"raw_title\":\"银杯子999纯银 保健杯养生保温杯商务男女士高档礼品内胆纯银水杯\",\"pic_url\":\"//g-search3.alicdn.com/img/bao/uploaded/i4/i4/2647058351/TB23A4EmdfJ8KJjy0FeXXXKEXXa_!!2647058351.jpg\",\"detail_url\":\"//item.taobao.com/item.htm?id\\u003d563773404931\\u0026ns\\u003d1\\u0026abbucket\\u003d0#detail\",\"view_price\":\"298.00\",\"view_fee\":\"0.00\",\"item_loc\":\"河南 郑州\",\"view_sales\":\"698人付款\",\"comment_count\":\"300\",\"user_id\":\"2647058351\",\"nick\":\"微笑义伟\",\"shopcard\":{\"levelClasses\":[{\"levelClass\":\"icon-supple-level-zuan\"},{\"levelClass\":\"icon-supple-level-zuan\"},{\"levelClass\":\"icon-supple-level-zuan\"}],\"isTmall\":false,\"delivery\":[492,1,6116],\"description\":[488,1,4889],\"service\":[491,1,5288],\"encryptedUserId\":\"UvCx0MGNbOmvbvQTT\",\"sellerCredit\":8,\"totalRate\":9842},\"icon\":[{\"title\":\"保险理赔\",\"dom_class\":\"icon-service-baoxian\",\"position\":\"99\",\"show_type\":\"1\",\"icon_category\":\"baobei\",\"outer_text\":\"0\",\"html\":\"\",\"icon_key\":\"icon-service-baoxian\",\"trace\":\"srpservice\",\"innerText\":\"分组-保险理赔\",\"iconPopupComplex\":{\"popup_title\":\"保险理赔\",\"subIcons\":[{\"dom_class\":\"icon-service-yunfeixian\",\"icon_content\":\"卖家赠送退货运费险\"}]}}],\"comment_url\":\"//item.taobao.com/item.htm?id\\u003d563773404931\\u0026ns\\u003d1\\u0026abbucket\\u003d0\\u0026on_comment\\u003d1\",\"shopLink\":\"//store.taobao.com/shop/view_shop.htm?user_number_id\\u003d2647058351\",\"risk\":\"\"},{\"i2iTags\":{\"samestyle\":{\"url\":\"\"},\"similar\":{\"url\":\"/search?type\\u003dsimilar\\u0026app\\u003di2i\\u0026rec_type\\u003d1\\u0026uniqpid\\u003d\\u0026nid\\u003d559820454116\"}},\"p4pTags\":[],\"nid\":\"559820454116\",\"category\":\"50006889\",\"pid\":\"\",\"title\":\"SGUAI小水怪G5智能饮水\\u003cspan class\\u003dH\\u003e杯\\u003c/span\\u003e提醒喝水\\u003cspan class\\u003dH\\u003e保温\\u003c/span\\u003e健康\\u003cspan class\\u003dH\\u003e杯\\u003c/span\\u003e便携运动水和随手\\u003cspan class\\u003dH\\u003e杯\\u003c/span\\u003e\",\"raw_title\":\"SGUAI小水怪G5智能饮水杯提醒喝水保温健康杯便携运动水和随手杯\",\"pic_url\":\"//g-search1.alicdn.com/img/bao/uploaded/i4/i3/1783763382/TB2sO5ZaiCYBuNkHFCcXXcHtVXa_!!1783763382.jpg\",\"detail_url\":\"//item.taobao.com/item.htm?id\\u003d559820454116\\u0026ns\\u003d1\\u0026abbucket\\u003d0#detail\",\"view_price\":\"149.00\",\"view_fee\":\"0.00\",\"item_loc\":\"广东 深圳\",\"view_sales\":\"2251人付款\",\"comment_count\":\"8014\",\"user_id\":\"1783763382\",\"nick\":\"极客世家\",\"shopcard\":{\"levelClasses\":[{\"levelClass\":\"icon-supple-level-guan\"},{\"levelClass\":\"icon-supple-level-guan\"},{\"levelClass\":\"icon-supple-level-guan\"}],\"isTmall\":false,\"delivery\":[488,1,3856],\"description\":[486,1,3771],\"service\":[490,1,4433],\"encryptedUserId\":\"UvFc4vGcLvGv4vgTT\",\"sellerCredit\":13,\"totalRate\":9971},\"icon\":[{\"title\":\"金牌卖家从千万卖家中脱颖而出，会为您的购物体验带来更多信任和安心\",\"dom_class\":\"icon-service-jinpaimaijia\",\"position\":\"1\",\"show_type\":\"0\",\"icon_category\":\"shop\",\"outer_text\":\"0\",\"html\":\"\",\"icon_key\":\"icon-service-jinpaimaijia\",\"trace\":\"srpservice\",\"innerText\":\"金牌卖家\",\"url\":\"//www.taobao.com/go/act/jpmj.php\",\"iconPopupNormal\":{\"dom_class\":\"icon-service-jinpaimaijia-l\"}},{\"title\":\"保险理赔\",\"dom_class\":\"icon-service-baoxian\",\"position\":\"99\",\"show_type\":\"1\",\"icon_category\":\"baobei\",\"outer_text\":\"0\",\"html\":\"\",\"icon_key\":\"icon-service-baoxian\",\"trace\":\"srpservice\",\"innerText\":\"分组-保险理赔\",\"iconPopupComplex\":{\"popup_title\":\"保险理赔\",\"subIcons\":[{\"dom_class\":\"icon-service-yunfeixian\",\"icon_content\":\"卖家赠送退货运费险\"}]}}],\"comment_url\":\"//item.taobao.com/item.htm?id\\u003d559820454116\\u0026ns\\u003d1\\u0026abbucket\\u003d0\\u0026on_comment\\u003d1\",\"shopLink\":\"//store.taobao.com/shop/view_shop.htm?user_number_id\\u003d1783763382\",\"risk\":\"\"},{\"i2iTags\":{\"samestyle\":{\"url\":\"\"},\"similar\":{\"url\":\"/search?type\\u003dsimilar\\u0026app\\u003di2i\\u0026rec_type\\u003d1\\u0026uniqpid\\u003d\\u0026nid\\u003d20267612139\"}},\"p4pTags\":[],\"nid\":\"20267612139\",\"category\":\"50006889\",\"pid\":\"\",\"title\":\"迪士尼儿童\\u003cspan class\\u003dH\\u003e保温\\u003c/span\\u003e\\u003cspan class\\u003dH\\u003e杯\\u003c/span\\u003e带吸管防摔两用不锈钢小学生水\\u003cspan class\\u003dH\\u003e杯\\u003c/span\\u003e幼儿园宝宝水壶\",\"raw_title\":\"迪士尼儿童保温杯带吸管防摔两用不锈钢小学生水杯幼儿园宝宝水壶\",\"pic_url\":\"//g-search3.alicdn.com/img/bao/uploaded/i4/i3/1025993398/TB1n3Lvc7SWBuNjSszdXXbeSpXa_!!0-item_pic.jpg\",\"detail_url\":\"//detail.tmall.com/item.htm?id\\u003d20267612139\\u0026ns\\u003d1\\u0026abbucket\\u003d0\",\"view_price\":\"49.00\",\"view_fee\":\"0.00\",\"item_loc\":\"江苏 南京\",\"view_sales\":\"15608人付款\",\"comment_count\":\"158585\",\"user_id\":\"1025993398\",\"nick\":\"特威玺达家居专营店\",\"shopcard\":{\"levelClasses\":[{\"levelClass\":\"icon-supple-level-jinguan\"},{\"levelClass\":\"icon-supple-level-jinguan\"}],\"isTmall\":true,\"delivery\":[480,0,0],\"description\":[487,0,0],\"service\":[480,0,0],\"encryptedUserId\":\"UvFNyMFkSvGvSONTT\",\"sellerCredit\":17,\"totalRate\":10000},\"icon\":[{\"title\":\"尚天猫，就购了\",\"dom_class\":\"icon-service-tianmao\",\"position\":\"1\",\"show_type\":\"0\",\"icon_category\":\"baobei\",\"outer_text\":\"0\",\"html\":\"\",\"icon_key\":\"icon-service-tianmao\",\"trace\":\"srpservice\",\"innerText\":\"天猫宝贝\",\"url\":\"//www.tmall.com/\"}],\"comment_url\":\"//detail.tmall.com/item.htm?id\\u003d20267612139\\u0026ns\\u003d1\\u0026abbucket\\u003d0\\u0026on_comment\\u003d1\",\"shopLink\":\"//store.taobao.com/shop/view_shop.htm?user_number_id\\u003d1025993398\",\"risk\":\"\"},{\"i2iTags\":{\"samestyle\":{\"url\":\"\"},\"similar\":{\"url\":\"/search?type\\u003dsimilar\\u0026app\\u003di2i\\u0026rec_type\\u003d1\\u0026uniqpid\\u003d\\u0026nid\\u003d544368539584\"}},\"p4pTags\":[],\"nid\":\"544368539584\",\"category\":\"50006889\",\"pid\":\"\",\"title\":\"拾喜\\u003cspan class\\u003dH\\u003e保温\\u003c/span\\u003e\\u003cspan class\\u003dH\\u003e杯\\u003c/span\\u003e男定制大容量水\\u003cspan class\\u003dH\\u003e杯\\u003c/span\\u003e泡茶不锈钢商务女\\u003cspan class\\u003dH\\u003e杯\\u003c/span\\u003e子便携茶\\u003cspan class\\u003dH\\u003e杯\\u003c/span\\u003e500ml\",\"raw_title\":\"拾喜保温杯男定制大容量水杯泡茶不锈钢商务女杯子便携茶杯500ml\",\"pic_url\":\"//g-search3.alicdn.com/img/bao/uploaded/i4/i2/3072594304/TB1MUcxak7mBKNjSZFyXXbydFXa_!!0-item_pic.jpg\",\"detail_url\":\"//detail.tmall.com/item.htm?id\\u003d544368539584\\u0026ns\\u003d1\\u0026abbucket\\u003d0\",\"view_price\":\"39.90\",\"view_fee\":\"0.00\",\"item_loc\":\"安徽 合肥\",\"view_sales\":\"14058人付款\",\"comment_count\":\"142827\",\"user_id\":\"3072594304\",\"nick\":\"富光拾喜旗舰店\",\"shopcard\":{\"levelClasses\":[{\"levelClass\":\"icon-supple-level-guan\"},{\"levelClass\":\"icon-supple-level-guan\"},{\"levelClass\":\"icon-supple-level-guan\"},{\"levelClass\":\"icon-supple-level-guan\"}],\"isTmall\":true,\"delivery\":[474,-1,155],\"description\":[484,0,0],\"service\":[478,-1,95],\"encryptedUserId\":\"UvGNuvC8SMmvWMNTT\",\"sellerCredit\":14,\"totalRate\":10000},\"icon\":[{\"title\":\"尚天猫，就购了\",\"dom_class\":\"icon-service-tianmao\",\"position\":\"1\",\"show_type\":\"0\",\"icon_category\":\"baobei\",\"outer_text\":\"0\",\"html\":\"\",\"icon_key\":\"icon-service-tianmao\",\"trace\":\"srpservice\",\"innerText\":\"天猫宝贝\",\"url\":\"//www.tmall.com/\"},{\"title\":\"保险理赔\",\"dom_class\":\"icon-service-baoxian\",\"position\":\"99\",\"show_type\":\"1\",\"icon_category\":\"baobei\",\"outer_text\":\"0\",\"html\":\"\",\"icon_key\":\"icon-service-baoxian\",\"trace\":\"srpservice\",\"innerText\":\"分组-保险理赔\",\"iconPopupComplex\":{\"popup_title\":\"保险理赔\",\"subIcons\":[{\"dom_class\":\"icon-service-yunfeixian\",\"icon_content\":\"卖家赠送退货运费险\"}]}}],\"comment_url\":\"//detail.tmall.com/item.htm?id\\u003d544368539584\\u0026ns\\u003d1\\u0026abbucket\\u003d0\\u0026on_comment\\u003d1\",\"shopLink\":\"//store.taobao.com/shop/view_shop.htm?user_number_id\\u003d3072594304\",\"risk\":\"\"},{\"i2iTags\":{\"samestyle\":{\"url\":\"\"},\"similar\":{\"url\":\"/search?type\\u003dsimilar\\u0026app\\u003di2i\\u0026rec_type\\u003d1\\u0026uniqpid\\u003d\\u0026nid\\u003d554431912402\"}},\"p4pTags\":[],\"nid\":\"554431912402\",\"category\":\"50006889\",\"pid\":\"\",\"title\":\"佳琪\\u003cspan class\\u003dH\\u003e保温\\u003c/span\\u003e\\u003cspan class\\u003dH\\u003e杯\\u003c/span\\u003e儿童水壶带吸管宝宝男女幼儿园学生不锈钢防摔两用水\\u003cspan class\\u003dH\\u003e杯\\u003c/span\\u003e\",\"raw_title\":\"佳琪保温杯儿童水壶带吸管宝宝男女幼儿园学生不锈钢防摔两用水杯\",\"pic_url\":\"//g-search3.alicdn.com/img/bao/uploaded/i4/i4/928375788/TB1VPEqcamWBuNjy1XaXXXCbXXa_!!0-item_pic.jpg\",\"detail_url\":\"//detail.tmall.com/item.htm?id\\u003d554431912402\\u0026ns\\u003d1\\u0026abbucket\\u003d0\",\"view_price\":\"39.90\",\"view_fee\":\"0.00\",\"item_loc\":\"安徽 合肥\",\"view_sales\":\"22562人付款\",\"comment_count\":\"59727\",\"user_id\":\"928375788\",\"nick\":\"佳琪家居旗舰店\",\"shopcard\":{\"levelClasses\":[{\"levelClass\":\"icon-supple-level-guan\"},{\"levelClass\":\"icon-supple-level-guan\"},{\"levelClass\":\"icon-supple-level-guan\"},{\"levelClass\":\"icon-supple-level-guan\"},{\"levelClass\":\"icon-supple-level-guan\"}],\"isTmall\":true,\"delivery\":[478,-1,66],\"description\":[484,-1,57],\"service\":[476,-1,127],\"encryptedUserId\":\"UOFI4vGcbMGg4\",\"sellerCredit\":15,\"totalRate\":10000},\"icon\":[{\"title\":\"尚天猫，就购了\",\"dom_class\":\"icon-service-tianmao\",\"position\":\"1\",\"show_type\":\"0\",\"icon_category\":\"baobei\",\"outer_text\":\"0\",\"html\":\"\",\"icon_key\":\"icon-service-tianmao\",\"trace\":\"srpservice\",\"innerText\":\"天猫宝贝\",\"url\":\"//www.tmall.com/\"},{\"title\":\"保险理赔\",\"dom_class\":\"icon-service-baoxian\",\"position\":\"99\",\"show_type\":\"1\",\"icon_category\":\"baobei\",\"outer_text\":\"0\",\"html\":\"\",\"icon_key\":\"icon-service-baoxian\",\"trace\":\"srpservice\",\"innerText\":\"分组-保险理赔\",\"iconPopupComplex\":{\"popup_title\":\"保险理赔\",\"subIcons\":[{\"dom_class\":\"icon-service-yunfeixian\",\"icon_content\":\"卖家赠送退货运费险\"}]}}],\"comment_url\":\"//detail.tmall.com/item.htm?id\\u003d554431912402\\u0026ns\\u003d1\\u0026abbucket\\u003d0\\u0026on_comment\\u003d1\",\"shopLink\":\"//store.taobao.com/shop/view_shop.htm?user_number_id\\u003d928375788\",\"risk\":\"\"},{\"i2iTags\":{\"samestyle\":{\"url\":\"\"},\"similar\":{\"url\":\"/search?type\\u003dsimilar\\u0026app\\u003di2i\\u0026rec_type\\u003d1\\u0026uniqpid\\u003d\\u0026nid\\u003d552409577426\"}},\"p4pTags\":[],\"nid\":\"552409577426\",\"category\":\"50006889\",\"pid\":\"\",\"title\":\"古琦\\u003cspan class\\u003dH\\u003e保温\\u003c/span\\u003e\\u003cspan class\\u003dH\\u003e杯\\u003c/span\\u003e男女士不锈钢直身\\u003cspan class\\u003dH\\u003e杯\\u003c/span\\u003e学生情侣茶水\\u003cspan class\\u003dH\\u003e杯\\u003c/span\\u003e子车载商务儿童定制\",\"raw_title\":\"古琦保温杯男女士不锈钢直身杯学生情侣茶水杯子车载商务儿童定制\",\"pic_url\":\"//g-search3.alicdn.com/img/bao/uploaded/i4/i2/2915149726/TB1CWBBbkOWBuNjSsppXXXPgpXa_!!0-item_pic.jpg\",\"detail_url\":\"//detail.tmall.com/item.htm?id\\u003d552409577426\\u0026ns\\u003d1\\u0026abbucket\\u003d0\",\"view_price\":\"38.80\",\"view_fee\":\"0.00\",\"item_loc\":\"上海\",\"view_sales\":\"28321人付款\",\"comment_count\":\"24420\",\"user_id\":\"2915149726\",\"nick\":\"紫金居家日用专营店\",\"shopcard\":{\"levelClasses\":[{\"levelClass\":\"icon-supple-level-guan\"},{\"levelClass\":\"icon-supple-level-guan\"},{\"levelClass\":\"icon-supple-level-guan\"},{\"levelClass\":\"icon-supple-level-guan\"}],\"isTmall\":true,\"delivery\":[478,-1,56],\"description\":[484,0,0],\"service\":[479,-1,76],\"encryptedUserId\":\"UvCkYMFH0OFcyMgTT\",\"sellerCredit\":14,\"totalRate\":10000},\"icon\":[{\"title\":\"尚天猫，就购了\",\"dom_class\":\"icon-service-tianmao\",\"position\":\"1\",\"show_type\":\"0\",\"icon_category\":\"baobei\",\"outer_text\":\"0\",\"html\":\"\",\"icon_key\":\"icon-service-tianmao\",\"trace\":\"srpservice\",\"innerText\":\"天猫宝贝\",\"url\":\"//www.tmall.com/\"},{\"title\":\"保险理赔\",\"dom_class\":\"icon-service-baoxian\",\"position\":\"99\",\"show_type\":\"1\",\"icon_category\":\"baobei\",\"outer_text\":\"0\",\"html\":\"\",\"icon_key\":\"icon-service-baoxian\",\"trace\":\"srpservice\",\"innerText\":\"分组-保险理赔\",\"iconPopupComplex\":{\"popup_title\":\"保险理赔\",\"subIcons\":[{\"dom_class\":\"icon-service-yunfeixian\",\"icon_content\":\"卖家赠送退货运费险\"}]}}],\"comment_url\":\"//detail.tmall.com/item.htm?id\\u003d552409577426\\u0026ns\\u003d1\\u0026abbucket\\u003d0\\u0026on_comment\\u003d1\",\"shopLink\":\"//store.taobao.com/shop/view_shop.htm?user_number_id\\u003d2915149726\",\"risk\":\"\"},{\"i2iTags\":{\"samestyle\":{\"url\":\"\"},\"similar\":{\"url\":\"/search?type\\u003dsimilar\\u0026app\\u003di2i\\u0026rec_type\\u003d1\\u0026uniqpid\\u003d\\u0026nid\\u003d555957550711\"}},\"p4pTags\":[],\"nid\":\"555957550711\",\"category\":\"50006889\",\"pid\":\"\",\"title\":\"哈尔斯\\u003cspan class\\u003dH\\u003e保温\\u003c/span\\u003e\\u003cspan class\\u003dH\\u003e杯\\u003c/span\\u003e男士女高档不锈钢ins便携水\\u003cspan class\\u003dH\\u003e杯\\u003c/span\\u003e商务定制刻字泡茶\\u003cspan class\\u003dH\\u003e杯\\u003c/span\\u003e子\",\"raw_title\":\"哈尔斯保温杯男士女高档不锈钢ins便携水杯商务定制刻字泡茶杯子\",\"pic_url\":\"//g-search3.alicdn.com/img/bao/uploaded/i4/i4/3210207250/TB1nZfjcCYH8KJjSspdXXcRgVXa_!!0-item_pic.jpg\",\"detail_url\":\"//detail.tmall.com/item.htm?id\\u003d555957550711\\u0026ns\\u003d1\\u0026abbucket\\u003d0\",\"view_price\":\"59.00\",\"view_fee\":\"0.00\",\"item_loc\":\"上海\",\"view_sales\":\"9368人付款\",\"comment_count\":\"35116\",\"user_id\":\"3210207250\",\"nick\":\"哈尔斯德蒙专卖店\",\"shopcard\":{\"levelClasses\":[{\"levelClass\":\"icon-supple-level-guan\"},{\"levelClass\":\"icon-supple-level-guan\"}],\"isTmall\":true,\"delivery\":[476,-1,100],\"description\":[488,1,1083],\"service\":[480,-1,56],\"encryptedUserId\":\"UvGIYvmIWMGIbvNTT\",\"sellerCredit\":12,\"totalRate\":10000},\"icon\":[{\"title\":\"尚天猫，就购了\",\"dom_class\":\"icon-service-tianmao\",\"position\":\"1\",\"show_type\":\"0\",\"icon_category\":\"baobei\",\"outer_text\":\"0\",\"html\":\"\",\"icon_key\":\"icon-service-tianmao\",\"trace\":\"srpservice\",\"innerText\":\"天猫宝贝\",\"url\":\"//www.tmall.com/\"},{\"title\":\"保险理赔\",\"dom_class\":\"icon-service-baoxian\",\"position\":\"99\",\"show_type\":\"1\",\"icon_category\":\"baobei\",\"outer_text\":\"0\",\"html\":\"\",\"icon_key\":\"icon-service-baoxian\",\"trace\":\"srpservice\",\"innerText\":\"分组-保险理赔\",\"iconPopupComplex\":{\"popup_title\":\"保险理赔\",\"subIcons\":[{\"dom_class\":\"icon-service-yunfeixian\",\"icon_content\":\"卖家赠送退货运费险\"}]}}],\"comment_url\":\"//detail.tmall.com/item.htm?id\\u003d555957550711\\u0026ns\\u003d1\\u0026abbucket\\u003d0\\u0026on_comment\\u003d1\",\"shopLink\":\"//store.taobao.com/shop/view_shop.htm?user_number_id\\u003d3210207250\",\"risk\":\"\"},{\"i2iTags\":{\"samestyle\":{\"url\":\"\"},\"similar\":{\"url\":\"/search?type\\u003dsimilar\\u0026app\\u003di2i\\u0026rec_type\\u003d1\\u0026uniqpid\\u003d\\u0026nid\\u003d543403548940\"}},\"p4pTags\":[],\"nid\":\"543403548940\",\"category\":\"50006889\",\"pid\":\"\",\"title\":\"日本膳魔师\\u003cspan class\\u003dH\\u003e保温\\u003c/span\\u003e\\u003cspan class\\u003dH\\u003e杯\\u003c/span\\u003e正品JNR-350-500 JNL-352-502男女不锈钢车载\\u003cspan class\\u003dH\\u003e杯\\u003c/span\\u003e\",\"raw_title\":\"日本膳魔师保温杯正品JNR-350-500 JNL-352-502男女不锈钢车载杯\",\"pic_url\":\"//g-search3.alicdn.com/img/bao/uploaded/i4/i3/393930519/TB2dxdAbs2vU1JjSZFwXXX2cpXa_!!393930519.jpg\",\"detail_url\":\"//item.taobao.com/item.htm?id\\u003d543403548940\\u0026ns\\u003d1\\u0026abbucket\\u003d0#detail\",\"view_price\":\"155.00\",\"view_fee\":\"0.00\",\"item_loc\":\"江苏 苏州\",\"view_sales\":\"2869人付款\",\"comment_count\":\"11601\",\"user_id\":\"393930519\",\"nick\":\"新家居良品2010\",\"shopcard\":{\"levelClasses\":[{\"levelClass\":\"icon-supple-level-guan\"},{\"levelClass\":\"icon-supple-level-guan\"},{\"levelClass\":\"icon-supple-level-guan\"},{\"levelClass\":\"icon-supple-level-guan\"}],\"isTmall\":false,\"delivery\":[492,1,5982],\"description\":[491,1,5731],\"service\":[493,1,5994],\"encryptedUserId\":\"UvGkGOFvWMFHS\",\"sellerCredit\":14,\"totalRate\":9966},\"icon\":[{\"title\":\"探索全球美好生活\",\"dom_class\":\"icon-fest-quanqiugou\",\"position\":\"1\",\"show_type\":\"0\",\"icon_category\":\"baobei\",\"outer_text\":\"0\",\"html\":\"\",\"icon_key\":\"icon-fest-quanqiugou\",\"trace\":\"srpservice\",\"innerText\":\"全球购\",\"url\":\"//global.taobao.com/\",\"iconPopupNormal\":{\"dom_class\":\"icon-fest-quanqiugouhover\"}},{\"title\":\"金牌卖家从千万卖家中脱颖而出，会为您的购物体验带来更多信任和安心\",\"dom_class\":\"icon-service-jinpaimaijia\",\"position\":\"1\",\"show_type\":\"0\",\"icon_category\":\"shop\",\"outer_text\":\"0\",\"html\":\"\",\"icon_key\":\"icon-service-jinpaimaijia\",\"trace\":\"srpservice\",\"innerText\":\"金牌卖家\",\"url\":\"//www.taobao.com/go/act/jpmj.php\",\"iconPopupNormal\":{\"dom_class\":\"icon-service-jinpaimaijia-l\"}}],\"comment_url\":\"//item.taobao.com/item.htm?id\\u003d543403548940\\u0026ns\\u003d1\\u0026abbucket\\u003d0\\u0026on_comment\\u003d1\",\"shopLink\":\"//store.taobao.com/shop/view_shop.htm?user_number_id\\u003d393930519\",\"risk\":\"\"},{\"i2iTags\":{\"samestyle\":{\"url\":\"\"},\"similar\":{\"url\":\"/search?type\\u003dsimilar\\u0026app\\u003di2i\\u0026rec_type\\u003d1\\u0026uniqpid\\u003d\\u0026nid\\u003d43523680159\"}},\"p4pTags\":[],\"nid\":\"43523680159\",\"category\":\"50006889\",\"pid\":\"\",\"title\":\"日本SHINPUR象普\\u003cspan class\\u003dH\\u003e保温\\u003c/span\\u003e\\u003cspan class\\u003dH\\u003e杯\\u003c/span\\u003e女 高档水\\u003cspan class\\u003dH\\u003e杯\\u003c/span\\u003e定制学生\\u003cspan class\\u003dH\\u003e杯\\u003c/span\\u003e子刻字不锈钢茶\\u003cspan class\\u003dH\\u003e杯\\u003c/span\\u003e男\",\"raw_title\":\"日本SHINPUR象普保温杯女 高档水杯定制学生杯子刻字不锈钢茶杯男\",\"pic_url\":\"//g-search3.alicdn.com/img/bao/uploaded/i4/i3/2169216484/TB1.Rh6aBsmBKNjSZFFXXcT9VXa_!!0-item_pic.jpg\",\"detail_url\":\"//detail.tmall.com/item.htm?id\\u003d43523680159\\u0026ns\\u003d1\\u0026abbucket\\u003d0\",\"view_price\":\"126.00\",\"view_fee\":\"0.00\",\"item_loc\":\"福建 泉州\",\"view_sales\":\"8037人付款\",\"comment_count\":\"38433\",\"user_id\":\"2169216484\",\"nick\":\"shinpur象普旗舰店\",\"shopcard\":{\"levelClasses\":[{\"levelClass\":\"icon-supple-level-guan\"},{\"levelClass\":\"icon-supple-level-guan\"},{\"levelClass\":\"icon-supple-level-guan\"}],\"isTmall\":true,\"delivery\":[486,1,2720],\"description\":[490,1,2038],\"service\":[488,1,3399],\"encryptedUserId\":\"UvCHLOFIYMCQ4MNTT\",\"sellerCredit\":13,\"totalRate\":10000},\"icon\":[{\"title\":\"尚天猫，就购了\",\"dom_class\":\"icon-service-tianmao\",\"position\":\"1\",\"show_type\":\"0\",\"icon_category\":\"baobei\",\"outer_text\":\"0\",\"html\":\"\",\"icon_key\":\"icon-service-tianmao\",\"trace\":\"srpservice\",\"innerText\":\"天猫宝贝\",\"url\":\"//www.tmall.com/\"},{\"title\":\"保险理赔\",\"dom_class\":\"icon-service-baoxian\",\"position\":\"99\",\"show_type\":\"1\",\"icon_category\":\"baobei\",\"outer_text\":\"0\",\"html\":\"\",\"icon_key\":\"icon-service-baoxian\",\"trace\":\"srpservice\",\"innerText\":\"分组-保险理赔\",\"iconPopupComplex\":{\"popup_title\":\"保险理赔\",\"subIcons\":[{\"dom_class\":\"icon-service-yunfeixian\",\"icon_content\":\"卖家赠送退货运费险\"}]}}],\"comment_url\":\"//detail.tmall.com/item.htm?id\\u003d43523680159\\u0026ns\\u003d1\\u0026abbucket\\u003d0\\u0026on_comment\\u003d1\",\"shopLink\":\"//store.taobao.com/shop/view_shop.htm?user_number_id\\u003d2169216484\",\"risk\":\"\"},{\"i2iTags\":{\"samestyle\":{\"url\":\"\"},\"similar\":{\"url\":\"/search?type\\u003dsimilar\\u0026app\\u003di2i\\u0026rec_type\\u003d1\\u0026uniqpid\\u003d\\u0026nid\\u003d551017953117\"}},\"p4pTags\":[],\"nid\":\"551017953117\",\"category\":\"50006889\",\"pid\":\"\",\"title\":\"cuipo儿童\\u003cspan class\\u003dH\\u003e保温\\u003c/span\\u003e\\u003cspan class\\u003dH\\u003e杯\\u003c/span\\u003e带吸管316不锈钢水壶两用宝宝男女小学生防摔水\\u003cspan class\\u003dH\\u003e杯\\u003c/span\\u003e\",\"raw_title\":\"cuipo儿童保温杯带吸管316不锈钢水壶两用宝宝男女小学生防摔水杯\",\"pic_url\":\"//g-search2.alicdn.com/img/bao/uploaded/i4/i4/3077653560/TB1_lSLcNSYBuNjSspjXXX73VXa_!!0-item_pic.jpg\",\"detail_url\":\"//detail.tmall.com/item.htm?id\\u003d551017953117\\u0026ns\\u003d1\\u0026abbucket\\u003d0\",\"view_price\":\"129.00\",\"view_fee\":\"0.00\",\"item_loc\":\"上海\",\"view_sales\":\"8396人付款\",\"comment_count\":\"28612\",\"user_id\":\"3077653560\",\"nick\":\"cuipo旗舰店\",\"shopcard\":{\"levelClasses\":[{\"levelClass\":\"icon-supple-level-guan\"},{\"levelClass\":\"icon-supple-level-guan\"},{\"levelClass\":\"icon-supple-level-guan\"}],\"isTmall\":true,\"delivery\":[483,1,1136],\"description\":[487,0,0],\"service\":[484,1,1207],\"encryptedUserId\":\"UvGNuMGxbvG8LvNTT\",\"sellerCredit\":13,\"totalRate\":10000},\"icon\":[{\"title\":\"尚天猫，就购了\",\"dom_class\":\"icon-service-tianmao\",\"position\":\"1\",\"show_type\":\"0\",\"icon_category\":\"baobei\",\"outer_text\":\"0\",\"html\":\"\",\"icon_key\":\"icon-service-tianmao\",\"trace\":\"srpservice\",\"innerText\":\"天猫宝贝\",\"url\":\"//www.tmall.com/\"},{\"title\":\"保险理赔\",\"dom_class\":\"icon-service-baoxian\",\"position\":\"99\",\"show_type\":\"1\",\"icon_category\":\"baobei\",\"outer_text\":\"0\",\"html\":\"\",\"icon_key\":\"icon-service-baoxian\",\"trace\":\"srpservice\",\"innerText\":\"分组-保险理赔\",\"iconPopupComplex\":{\"popup_title\":\"保险理赔\",\"subIcons\":[{\"dom_class\":\"icon-service-yunfeixian\",\"icon_content\":\"卖家赠送退货运费险\"}]}}],\"comment_url\":\"//detail.tmall.com/item.htm?id\\u003d551017953117\\u0026ns\\u003d1\\u0026abbucket\\u003d0\\u0026on_comment\\u003d1\",\"shopLink\":\"//store.taobao.com/shop/view_shop.htm?user_number_id\\u003d3077653560\",\"risk\":\"\"}],\"trace\":\"auction_customized\",\"query\":\"保溫杯\"}}});\n"
     ]
    }
   ],
   "source": [
    "print(res.text)"
   ]
  },
  {
   "cell_type": "code",
   "execution_count": 11,
   "metadata": {},
   "outputs": [
    {
     "ename": "IndexError",
     "evalue": "list index out of range",
     "output_type": "error",
     "traceback": [
      "\u001b[1;31m---------------------------------------------------------------------------\u001b[0m",
      "\u001b[1;31mIndexError\u001b[0m                                Traceback (most recent call last)",
      "\u001b[1;32m<ipython-input-11-49ab8d9271cd>\u001b[0m in \u001b[0;36m<module>\u001b[1;34m()\u001b[0m\n\u001b[0;32m      1\u001b[0m \u001b[0msoup\u001b[0m \u001b[1;33m=\u001b[0m \u001b[0mBeautifulSoup\u001b[0m\u001b[1;33m(\u001b[0m\u001b[0mres\u001b[0m\u001b[1;33m.\u001b[0m\u001b[0mtext\u001b[0m\u001b[1;33m,\u001b[0m \u001b[1;34m'html.parser'\u001b[0m\u001b[1;33m)\u001b[0m\u001b[1;33m\u001b[0m\u001b[0m\n\u001b[0;32m      2\u001b[0m \u001b[1;31m# g_page_config\u001b[0m\u001b[1;33m\u001b[0m\u001b[1;33m\u001b[0m\u001b[0m\n\u001b[1;32m----> 3\u001b[1;33m \u001b[0mg_page_config\u001b[0m \u001b[1;33m=\u001b[0m \u001b[0msoup\u001b[0m\u001b[1;33m.\u001b[0m\u001b[0mselect\u001b[0m\u001b[1;33m(\u001b[0m\u001b[1;34m\"script\"\u001b[0m\u001b[1;33m)\u001b[0m\u001b[1;33m[\u001b[0m\u001b[1;36m7\u001b[0m\u001b[1;33m]\u001b[0m\u001b[1;33m.\u001b[0m\u001b[0mtext\u001b[0m\u001b[1;33m\u001b[0m\u001b[0m\n\u001b[0m\u001b[0;32m      4\u001b[0m \u001b[0mg_page_config\u001b[0m\u001b[1;33m\u001b[0m\u001b[0m\n\u001b[0;32m      5\u001b[0m \u001b[1;31m#for item in soup.select('.item'):\u001b[0m\u001b[1;33m\u001b[0m\u001b[1;33m\u001b[0m\u001b[0m\n",
      "\u001b[1;31mIndexError\u001b[0m: list index out of range"
     ]
    }
   ],
   "source": [
    "soup = BeautifulSoup(res.text, 'html.parser')\n",
    "# g_page_config\n",
    "g_page_config = soup.select(\"script\")[7].text\n",
    "g_page_config\n",
    "#for item in soup.select('.item'):\n",
    "#    print(item.select('strong')[0].text)"
   ]
  },
  {
   "cell_type": "code",
   "execution_count": null,
   "metadata": {},
   "outputs": [],
   "source": []
  },
  {
   "cell_type": "code",
   "execution_count": null,
   "metadata": {},
   "outputs": [],
   "source": []
  },
  {
   "cell_type": "code",
   "execution_count": null,
   "metadata": {},
   "outputs": [],
   "source": []
  },
  {
   "cell_type": "code",
   "execution_count": null,
   "metadata": {},
   "outputs": [],
   "source": []
  },
  {
   "cell_type": "code",
   "execution_count": null,
   "metadata": {},
   "outputs": [],
   "source": []
  }
 ],
 "metadata": {
  "kernelspec": {
   "display_name": "Python 3",
   "language": "python",
   "name": "python3"
  },
  "language_info": {
   "codemirror_mode": {
    "name": "ipython",
    "version": 3
   },
   "file_extension": ".py",
   "mimetype": "text/x-python",
   "name": "python",
   "nbconvert_exporter": "python",
   "pygments_lexer": "ipython3",
   "version": "3.6.4"
  }
 },
 "nbformat": 4,
 "nbformat_minor": 2
}
