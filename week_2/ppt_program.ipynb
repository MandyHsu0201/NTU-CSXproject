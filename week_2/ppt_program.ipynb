{
 "cells": [
  {
   "cell_type": "markdown",
   "metadata": {},
   "source": [
    "# 需先安裝pip install pyquery"
   ]
  },
  {
   "cell_type": "code",
   "execution_count": 10,
   "metadata": {},
   "outputs": [],
   "source": [
    "from pyquery import PyQuery as pq\n",
    "from collections import OrderedDict\n",
    "import pandas as pd"
   ]
  },
  {
   "cell_type": "code",
   "execution_count": 25,
   "metadata": {},
   "outputs": [],
   "source": [
    "# 開爬囉\n",
    "domain = 'https://ecshweb.pchome.com.tw/search/v3.3/?q=%E5%A5%B3%E8%A3%9D&scope=all'\n",
    "#'https://www.ptt.cc/bbs/NBA/index5722.html'\n",
    "\n",
    "q = pq(domain)"
   ]
  },
  {
   "cell_type": "code",
   "execution_count": 24,
   "metadata": {},
   "outputs": [
    {
     "name": "stdout",
     "output_type": "stream",
     "text": [
      "<html xmlns=\"http://www.w3.org/1999/xhtml\" xmlns=\"http://www.w3.org/1999/xhtml\">\n",
      "<head>\n",
      "<meta http-equiv=\"Content-Type\" content=\"text/html; charset=UTF-8\" />\n",
      "<meta http-equiv=\"Content-Language\" content=\"zh-tw\" />\n",
      "<meta http-equiv=\"X-UA-Compatible\" content=\"IE=edge\" />\n",
      "<meta name=\"baidu-site-verification\" content=\"CPfgp1JzxusG1iSc\" />\n",
      "<link rel=\"canonical\" href=\"https://ecshweb.pchome.com.tw/search/v3.3/\" />\n",
      "<link rel=\"alternate\" href=\"https://24h.m.pchome.com.tw/prod/search/\" />\n",
      "<title>PChome ç·ä¸è³¼ç© - ååæå°</title>\n",
      "<link href=\"/opensearch_shopping.xml\" rel=\"search\" type=\"application/opensearchdescription+xml\" title=\"PChome ç·ä¸è³¼ç© ååæå°\" />\n",
      "<link type=\"text/css\" href=\"//shopping.pchome.com.tw/min/g=ecshweb-shv3.3-cssv2&amp;2017033011\" rel=\"stylesheet\" />\n",
      "<script type=\"text/javascript\" src=\"/min/g=v3.3shjs&amp;20180130\"></script>\n",
      "</head>\n",
      "<body>\n",
      "<div id=\"WRAPPER\" class=\"ecsite-layout style_shopping ecsite-search\">\n",
      "<!-- HEADER start -->\n",
      "<div id=\"HEADER\">\n",
      "  <div class=\"block_H\">\n",
      "    <div class=\"Ht\">\n",
      "      <h1 class=\"logotype\"><a href=\"https://shopping.pchome.com.tw\">PChomeç·ä¸è³¼ç©</a></h1>\n",
      "      <div class=\"site_nav\">\n",
      "          <ul class=\"main_site\">\n",
      "            <li><a href=\"https://shopping.pchome.com.tw\">ç·ä¸è³¼ç©</a></li>\n",
      "            <li><a href=\"https://24h.pchome.com.tw\">24hè³¼ç©</a></li>\n",
      "            <li><a href=\"https://mall.pchome.com.tw\">è³¼ç©ä¸­å¿</a></li>\n",
      "            <li><a href=\"https://24h.pchome.com.tw/books/\">æ¸åº</a></li>\n",
      "          </ul>\n",
      "          <ul class=\"service\" id=\"ServiceContainer\"></ul>\n",
      "      </div>\n",
      "    </div>\n",
      "  </div>\n",
      "</div>\n",
      "<!-- HEADER end -->\n",
      "\n",
      "<div id=\"CONTENT\" class=\"layout-wrapper\">\n",
      "<div class=\"layout-center\">\n",
      "  <!-- block_N start -->\n",
      "  <div class=\"block_N\">\n",
      "    <div class=\"Nt\">\n",
      "      <ul class=\"breadcrumbs\">\n",
      "        <li><a href=\"http://www.pchome.com.tw\">PChome</a></li>\n",
      "        <li><a href=\"https://shopping.pchome.com.tw\">ç·ä¸è³¼ç©</a></li>\n",
      "        <li><span>ååæå°çµæ</span></li>\n",
      "      </ul>\n",
      "    </div>\n",
      "    <div class=\"Nm\">\n",
      "      <ul class=\"searchfield\">\n",
      "        <li><input id=\"keyword\" type=\"text\" class=\"text\" placeholder=\"è«è¼¸å",
      "¥ééµå­\" /></li>\n",
      "        <li><input id=\"btn_search\" type=\"button\" class=\"button\" value=\"æ¾åå\" /></li>\n",
      "        <li><a href=\"https://ecvip.pchome.com.tw/?m=myaccount&amp;c=service&amp;f=showSearchService\">è²·ä¸å°éç¥æï¼</a></li>\n",
      "      </ul>\n",
      "      <div class=\"msg_box\"><span id=\"SearchInfo\"></span></div>\n",
      "    </div>\n",
      "    <div class=\"Nb\">\n",
      "      <p class=\"unblock\">æ¨æ¯ä¸æ¯è¦æ¥ï¼<span id=\"SpellCheckContainer\"></span></p>\n",
      "      <ul id=\"TagsContainer\" class=\"keyword_box\"></ul>\n",
      "    </div>\n",
      "  </div>\n",
      "  <!-- block_N end -->\n",
      "  <!-- block_W start -->\n",
      "  <dl class=\"block_W\">\n",
      "    <dt>ä¾é¤¨å¥é¡¯ç¤ºâ</dt>\n",
      "    <dd id=\"CategoryContainer\"></dd>\n",
      "  </dl>\n",
      "  <!-- block_W end -->\n",
      "  <!-- block_C start -->\n",
      "  <div class=\"block_C s_list\">\n",
      "    <!-- Cm start -->\n",
      "    <div class=\"Cm\">\n",
      "      <div class=\"Cm_N\">\n",
      "        <div id=\"SwitchBar\" class=\"bar_showmode\">\n",
      "          <dl class=\"left\">\n",
      "            <dt>æå°ï¼</dt>\n",
      "            <dd class=\"Scope\"><a href=\"javascript:void(0);\">å",
      "¨é¨</a></dd>\n",
      "            <dd class=\"Scope\"><a href=\"javascript:void(0);\">24H</a></dd>\n",
      "            <dd class=\"Scope\"><a href=\"javascript:void(0);\">24Hæ¸åº</a></dd>\n",
      "            <dd class=\"Scope\"><a href=\"javascript:void(0);\">è³¼ç©ä¸­å¿</a></dd>\n",
      "          </dl>\n",
      "          <dl class=\"right\">\n",
      "            <dt>æåºï¼</dt>\n",
      "            <dd class=\"Sort\"><a href=\"javascript:void(0);\">ç²¾æºåº¦</a></dd>\n",
      "            <dd class=\"Sort\"><a href=\"javascript:void(0);\">æè²¨åªå",
      "</a></dd>\n",
      "            <dd class=\"Sort\"><a href=\"javascript:void(0);\">å¹é¢ç±é«è³ä½</a></dd>\n",
      "            <dd class=\"Sort\"><a href=\"javascript:void(0);\">å¹é¢ç±ä½è³é«</a></dd>\n",
      "            <dd class=\"Sort\"><a href=\"javascript:void(0);\">æ°ä¸å¸</a></dd>\n",
      "          </dl>\n",
      "        </div>\n",
      "        <div id=\"FilterBar\" class=\"bar_filter\">\n",
      "          ç¯©é¸ï¼\n",
      "          <ul class=\"check_box\">\n",
      "              <li><label><input _filter=\"cvs\" type=\"checkbox\" name=\"filter\" value=\"all\" />è¶",
      "ååè²¨</label></li>\n",
      "          </ul>\n",
      "        </div>\n",
      "        <div class=\"bar_spinbtn\">\n",
      "          å¹æ ¼ç¯åï¼\n",
      "          <input id=\"MinPrice\" type=\"text\" class=\"text\" />ï½<input id=\"MaxPrice\" type=\"text\" class=\"text\" />\n",
      "          <input id=\"btn_PRC\" type=\"button\" class=\"button\" value=\"æå°\" />\n",
      "        </div>\n",
      "        <div id=\"notfound_cate\" class=\"bar_noprod unblock\">æ¬é¡å¥æå°ä¸å°æ¨è¦çååï¼</div>\n",
      "        <div id=\"notfound\" class=\"bar_noprod unblock\">æ¾ä¸å°è<span id=\"noprod\" class=\"value\"></span>æéçç¢å</div>\n",
      "      </div>\n",
      "      <div id=\"ItemContainer\" class=\"Cm_C\"></div>\n",
      "    </div>\n",
      "    <!-- Cm -->\n",
      "    <!-- Cb -->\n",
      "    <div class=\"Cb\">\n",
      "      <div id=\"DataLoader\" class=\"ui-loading unblock\">\n",
      "        <ul><li class=\"loading bert\">è®åä¸­</li></ul>\n",
      "      </div>\n",
      "      <!-- pagination start -->\n",
      "      <div class=\"pagination\">\n",
      "        <div id=\"MoreInfo\" class=\"msg_box unblock\">ç±æ¼æå°çµæç­æ¸è¼å¤ï¼å»ºè­°æ¨èª¿æ´æåºæ¹å¼ æ ç¯©é¸åååé¡ <a class=\"goTop\" href=\"javascript:void(0);\">åé é¨è¨­å®â</a></div>\n",
      "      </div>\n",
      "      <!-- pagination end -->\n",
      "    </div>\n",
      "  </div>\n",
      "  <!-- block_C end -->\n",
      "  <!-- block_S start -->\n",
      "  <div id=\"goTopBar\" class=\"block_S go_top\">\n",
      "    <a class=\"goTop\" href=\"javascript:void(0);\">åTOP</a>\n",
      "  </div>\n",
      "  <!-- block_S end -->\n",
      "</div>\n",
      "\n",
      "<div class=\"layout-east\">\n",
      "  <!-- å¿«æ·åè½å start-->\n",
      "  <ul id=\"toolbar\" class=\"toolbar\">\n",
      "    <li class=\"toolbar_click\" _value=\"cart\"><a class=\"ico cart\" href=\"http://shopping.pchome.com.tw/?mod=store&amp;func=choice_buy&amp;page_url=shopping&amp;NO=D&amp;C=D\">è³¼ç©è»<span class=\"amount unblock\"></span></a><a class=\"msg\" href=\"http://shopping.pchome.com.tw/?mod=store&amp;func=choice_buy&amp;page_url=shopping&amp;NO=D&amp;C=D\">è³¼ç©è»</a></li>\n",
      "    <li class=\"toolbar_click\" _value=\"coupon\"><a class=\"ico coupon\" href=\"https://ecvip.pchome.com.tw/web/coupon\">æå¹å¸</a><a class=\"msg\" href=\"https://ecvip.pchome.com.tw/web/coupon\">æå¹å¸</a></li>\n",
      "    <li id=\"BrowseRecord\" class=\"toolbar_click\" _value=\"browse\">\n",
      "      <a class=\"ico browse\" href=\"https://ecvip.pchome.com.tw/?0x3aeac70a06872cfa63d19a20ea6eaf67e2e2bd7c2e68123d2b5669f3bdd69b313d405cc47a96cac9\" target=\"_blank\">çè¦½ç´é</a>\n",
      "      <a id=\"RecordTag\" class=\"msg\" href=\"https://ecvip.pchome.com.tw/?0x3aeac70a06872cfa63d19a20ea6eaf67e2e2bd7c2e68123d2b5669f3bdd69b313d405cc47a96cac9\" target=\"_blank\">çè¦½ç´é</a>\n",
      "      <dl id=\"RecordBlock\" class=\"overlay_browse\">\n",
      "        <dt>çè¦½ç´é</dt>\n",
      "        <dd>\n",
      "          <dl id=\"RecordList\"></dl>\n",
      "          <a id=\"RecordFooter\" class=\"toolbar_click\" _value=\"browse-more\" href=\"https://ecvip.pchome.com.tw/?0x3aeac70a06872cfa63d19a20ea6eaf67e2e2bd7c2e68123d2b5669f3bdd69b313d405cc47a96cac9\" target=\"_blank\">more</a>\n",
      "        </dd>\n",
      "      </dl>\n",
      "    </li>\n",
      "    <li class=\"toolbar_click\" _value=\"trace\"><a class=\"ico trace\" href=\"https://ecvip.pchome.com.tw/?0xad70a21315391f5263d19a20ea6eaf679683275ee94981ab4d9ee8a8f55af4dbf93547f92611bcb319fe86d003de3ce7\" target=\"_blank\">è¿½è¹¤æ¸",
      "å®</a><a class=\"msg\" href=\"https://ecvip.pchome.com.tw/?0xad70a21315391f5263d19a20ea6eaf679683275ee94981ab4d9ee8a8f55af4dbf93547f92611bcb319fe86d003de3ce7\" target=\"_blank\">è¿½è¹¤æ¸",
      "å®</a></li>\n",
      "    <li class=\"toolbar_click\" _value=\"top\"><span class=\"ico gotop goTop\">åTOP</span><span class=\"msg goTop\">åTOP</span></li>\n",
      "  </ul>\n",
      "  <!-- å¿«æ·åè½å end-->\n",
      "</div>\n",
      "</div>\n",
      "<!-- CONTENT end -->\n",
      "\n",
      "<!-- FOOTER start -->\n",
      "<div id=\"FOOTER\" class=\"ecsite-footer\">\n",
      "  <dl class=\"msg_box\">\n",
      "    <dd>\n",
      "      <ul>\n",
      "        <li><a href=\"https://shopping.pchome.com.tw\">PChomeç·ä¸è³¼ç©</a></li><li>ç¶²è·¯å®¶åº­åéè³è¨è¡ä»½æéå",
      "¬å¸</li><li>çæ¬ææ</li><li>è½è¼å¿",
      "ç©¶</li><li><a href=\"https://ecvip.pchome.com.tw/contact/\">è¯çµ¡æå</a></li><li><a href=\"http://faq.pchome.com.tw/faq_solution.html?q_id=16&amp;c_nickname=member&amp;f_id=4\">é±ç§æ¬è²æ</a></li><li><a href=\"https://ecssl.pchome.com.tw/sys/cflowex/index/staticPage/CLAUSE\">æåæ¢æ¬¾</a></li><li><a class=\"anchor\" href=\"http://shopping.pchome.com.tw/?mod=sitemap&amp;func=sitemap\" accesskey=\"M\" title=\"ç¶²ç«å°è¦½\">:::</a></li>\n",
      "      </ul>\n",
      "    </dd>\n",
      "    <dd>\n",
      "      <ul>\n",
      "        <li>106</li><li>å°åå¸å¤§å®åæ¦ååè·¯äºæ®µ105è15æ¨</li><li>é»è©±(ä¸å«ä¾åæ¥)ï¼02-2326-1460</li><li><span class=\"s_parenthesis\">æ¬å",
      "¬å¸ä¸æä»¥æ­¤é»è©±èç¢¼æ¥æçµ¦æ¨ï¼å¦æä¾é»é¡¯ç¤ºæ­¤èç¢¼ï¼è«å¿çæ</span></li>\n",
      "      </ul>\n",
      "    </dd>\n",
      "    <dd>PChome and PChome Online are trademarks of PChome Online Inc.</dd>\n",
      "    <dd>æ¬ç¶²ç«ç¢åå·²æä¿æ°å",
      "ç¢ç©ç¢åè²¬ä»»ä¿éª$200,000,000å",
      "ã<span class=\"s_parenthesis\">ä¿éªè­èï¼130006AKP0000903</span></dd>\n",
      "  </dl>\n",
      "</div>\n",
      "<!-- FOOTER end -->\n",
      "\n",
      "<!--è³¼ç©è» start-->\n",
      "<div id=\"cart\" class=\"site_cart\">\n",
      "  <span id=\"CartLoader\" class=\"msg unblock\">å å",
      "¥è³¼ç©è»ä¸­â¦</span>\n",
      "  <a id=\"CartBox\" style=\"display:none\" class=\"cart cart_click\" _value=\"cartbelow\" href=\"http://shopping.pchome.com.tw/?mod=store&amp;func=choice_buy&amp;page_url=shopping&amp;NO=D&amp;C=D\">\n",
      "    <span class=\"price\"></span>\n",
      "    <span class=\"amount\"></span>\n",
      "    <span class=\"check\">çµå¸³&gt;</span>\n",
      "  </a>\n",
      "</div>\n",
      "<!--è³¼ç©è» end-->\n",
      "</div>\n",
      "<div class=\"ie8-recommend unblock\">\n",
      "  <span class=\"overlay-shadow\"></span>\n",
      "  <div class=\"overlay-lightbox\">\n",
      "    <p>çºæåäº¤æå®å",
      "¨ï¼å»ºè­°æ¨<span class=\"msg\">ä½¿ç¨ä¸åçè¦½å¨</span>ï¼å³å¯é å©è³¼è²·ã<br />è«æ¨å",
      "æª¢æ¥é»è",
      "¦æ¯å¦å·²å®è£ï¼å¦æªå®è£å¯é»é¸åç¤ºé²è¡ä¸è¼ã</p>\n",
      "    <ul class=\"list_browser\">\n",
      "      <li><a class=\"chrome\" href=\"https://www.google.com.tw/chrome/browser/desktop/\">ä¸è¼Chromeçè¦½å¨</a></li>\n",
      "      <li><a class=\"firefox\" href=\"https://www.mozilla.org/zh-TW/firefox/new/\">ä¸è¼Firefoxçè¦½å¨</a></li>\n",
      "    </ul>\n",
      "    <ul class=\"bar_tool\">\n",
      "      <li><span class=\"ui-btn b-submit\">ç¢ºå®</span></li>\n",
      "    </ul>\n",
      "  </div>\n",
      "</div>\n",
      "</body>\n",
      "</html>\n"
     ]
    }
   ],
   "source": [
    "# 經過解析後的 q 就是網站的 html DOM Tree \n",
    "#ps:這裡就是網頁按右鍵後的網頁原始碼\n",
    "print(q)"
   ]
  },
  {
   "cell_type": "code",
   "execution_count": 5,
   "metadata": {},
   "outputs": [],
   "source": [
    "# 獲取本頁所有標題 作者 推文數資訊\n",
    "title = q('.title a').text()\n",
    "author = q('.author').text()\n",
    "push = q('.hl').text()"
   ]
  },
  {
   "cell_type": "code",
   "execution_count": 6,
   "metadata": {},
   "outputs": [
    {
     "name": "stdout",
     "output_type": "stream",
     "text": [
      "[新聞] 「換血大交易」後5勝4負 騎士防守一樣破 [BOX ] Sixers 110:118 Bucks 數據 [公告] NBA 樂透開獎 Re: [BOX ] Sixers 110:118 Bucks 數據 [BOX ] Knicks 99:102 Kings 數據 [BOX ] Nets 120:123 Clippers 數據 [新聞] 眾球星祝賀Kobe捧小金人 歐尼爾:我好嫉妒 [專欄] 從DeRozan的坦白看職業運動不能說的秘密 [新聞] 10年來第一次 暴龍例行賽橫掃黃蜂 [新聞] 同時擁有冠軍戒與小金人 Kobe史上第一人 [公告] NBA 板 開始舉辦樂透! [新聞] Kobe Bryant奧斯卡獲獎 不忘諷刺福斯新聞 Re: [討論] 為何小市場爛隊不簽更多亞洲人 [花邊] LBJ祝賀Kobe：向Kobe贏得奧斯卡致敬 Re: [討論] 為何小市場爛隊不簽更多亞洲人 Re: [討論] 為何小市場爛隊不簽更多亞洲人 [花邊] Bleacher Report推特發佈Kobe得獎表情集 [專欄] 錯過柯瑞衰敗多年 尼克這次該鎖定楊恩\n"
     ]
    }
   ],
   "source": [
    "print(title)\n"
   ]
  },
  {
   "cell_type": "code",
   "execution_count": 7,
   "metadata": {},
   "outputs": [
    {
     "name": "stdout",
     "output_type": "stream",
     "text": [
      "如果沒有重新解析: <Element div at 0x11d31098>\n",
      "重新解析後: <div class=\"r-ent\">\n",
      "\t\t\t<div class=\"nrec\"><span class=\"hl f3\">49</span></div>\n",
      "\t\t\t<div class=\"mark\"/>\n",
      "\t\t\t<div class=\"title\">\n",
      "\t\t\t\n",
      "\t\t\t\t<a href=\"/bbs/NBA/M.1520232042.A.053.html\">[專欄] 錯過柯瑞衰敗多年 尼克這次該鎖定楊恩</a>\n",
      "\t\t\t\n",
      "\t\t\t</div>\n",
      "\t\t\t<div class=\"meta\">\n",
      "\t\t\t\t<div class=\"date\"> 3/05</div>\n",
      "\t\t\t\t<div class=\"author\">asdf1256</div>\n",
      "\t\t\t</div>\n",
      "\t\t</div>\n",
      "\n",
      "\t\t\n",
      "        \n",
      "\t\n"
     ]
    }
   ],
   "source": [
    "\n",
    "info = []\n",
    "for article in q('.r-ent'):\n",
    "    pass\n",
    "print('如果沒有重新解析:',article)\n",
    "print('重新解析後:',pq(article))"
   ]
  },
  {
   "cell_type": "code",
   "execution_count": null,
   "metadata": {},
   "outputs": [],
   "source": []
  }
 ],
 "metadata": {
  "kernelspec": {
   "display_name": "Python 3",
   "language": "python",
   "name": "python3"
  },
  "language_info": {
   "codemirror_mode": {
    "name": "ipython",
    "version": 3
   },
   "file_extension": ".py",
   "mimetype": "text/x-python",
   "name": "python",
   "nbconvert_exporter": "python",
   "pygments_lexer": "ipython3",
   "version": "3.6.4"
  }
 },
 "nbformat": 4,
 "nbformat_minor": 2
}
