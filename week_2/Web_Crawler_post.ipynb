{
 "cells": [
  {
   "cell_type": "code",
   "execution_count": 1,
   "metadata": {},
   "outputs": [],
   "source": [
    "### 使用Post,pandas"
   ]
  },
  {
   "cell_type": "code",
   "execution_count": 3,
   "metadata": {},
   "outputs": [],
   "source": [
    "from selenium import webdriver\n",
    "driver=webdriver.Chrome(r'C:\\Users\\Ellipsiz\\Desktop\\chromedriver.exe')\n",
    "driver.get('https://shopee.tw/')"
   ]
  },
  {
   "cell_type": "code",
   "execution_count": 4,
   "metadata": {},
   "outputs": [],
   "source": [
    "\n",
    "import requests\n",
    "import json\n",
    "import pandas as pd"
   ]
  },
  {
   "cell_type": "code",
   "execution_count": 5,
   "metadata": {},
   "outputs": [
    {
     "data": {
      "text/plain": [
       "<Response [200]>"
      ]
     },
     "execution_count": 5,
     "metadata": {},
     "output_type": "execute_result"
    }
   ],
   "source": [
    "#網頁案右的檢查後，進入network(接著重新整裡網頁)\\doc，發現沒找到跟網頁有關的訊息ex:價錢\n",
    "#改看XHR，可用Preview(會將response的資訊整理得比較好觀察)，從中發現在items有相關訊息，表示找對了\n",
    "#貼上header上的網址，並使用get或post來讀取(上面會寫是get或post)\n",
    "#發現是post，則須貼入更多的資訊\n",
    "#從header\\Request Paylod 發現很像json的格式，需用josn的格式，接著看到viewsource將其按開，則出現的東西就是要貼入我們post的內容\n",
    "#所以需要引用json，並將他load出來\n",
    "#暫時將下面一行mark\n",
    "#requests.post('from selenium import webdriver\n",
    "\n",
    "jd=json.loads('{\"item_shop_ids\":[{\"itemid\":39747180,\"campaignid\":68170,\"shopid\":5977996,\"adsid\":68170,\"ads_keyword\":\"手機\",\"logisticid\":[39304,30005,30001],\"deduction_info\":\"a3V2NW02MGxxcGxqeWhidJePRCcB3xpEuuo1pMtUerZLALmc/4TYC5FJSZZ9KHFWb0XXYtUZX7JNo77eBHm/Lw==\"},{\"itemid\":707991989,\"campaignid\":322811,\"shopid\":9222401,\"adsid\":322811,\"ads_keyword\":\"手機\",\"logisticid\":[30005,30006,30007],\"deduction_info\":\"a3V2NW02MGxxcGxqeWhidL8FCGUihPMQOWKs73W7z/6Ij9ZGlfcJRM5JLKXvmRmc+WhV6Q0AD0SuPpZnbkg2lQ==\"},{\"itemid\":65306904,\"campaignid\":68171,\"shopid\":5977996,\"adsid\":68171,\"ads_keyword\":\"手機\",\"logisticid\":[30005,39304,30001],\"deduction_info\":\"a3V2NW02MGxxcGxqeWhidBdsswg7hGFjAgDCTCS6Q1rh6oQMBKtn4dsnzPQVDI5JHawjFU5bawvVMf95NYuaLg==\"},{\"itemid\":694861124,\"campaignid\":305232,\"shopid\":43997244,\"adsid\":305232,\"ads_keyword\":\"手機\",\"logisticid\":[30006,30005,39303],\"deduction_info\":\"a3V2NW02MGxxcGxqeWhidFH2TULjwKD0b2SOqEACWc2zbiTW1sHGZOWIEuNgJjuRaMu4wlK/otmSgey9CNqq1Q==\"},{\"itemid\":846184303,\"campaignid\":384973,\"shopid\":4827179,\"adsid\":384872,\"ads_keyword\":\"手機\",\"logisticid\":[30006,30005,39303],\"deduction_info\":\"a3V2NW02MGxxcGxqeWhidEIit8YhHF8I/VCPzyzvqiknUHMzGYs/l5ZDisscNAqVBvLCGpRLQKf1GiVy1LdB/w==\"},{\"itemid\":802316023,\"shopid\":15171156,\"logisticid\":[30001,30005]},{\"itemid\":888957119,\"shopid\":1580315,\"logisticid\":[30006,30007,39304,30005]},{\"itemid\":815532393,\"shopid\":20990061,\"logisticid\":[30005,30006,39304]},{\"itemid\":794487371,\"shopid\":17371416,\"logisticid\":[30005]},{\"itemid\":132018096,\"shopid\":540615,\"logisticid\":[30007,39304,30005,30001,30006]},{\"itemid\":621230590,\"shopid\":22204594,\"logisticid\":[30006,30007,30005]},{\"itemid\":760203527,\"shopid\":16295631,\"logisticid\":[30006,30005]},{\"itemid\":622883247,\"shopid\":12448,\"logisticid\":[30006,30007,39304,30005,39303]},{\"itemid\":937617153,\"shopid\":4975228,\"logisticid\":[30005,30006,30007]},{\"itemid\":888979052,\"shopid\":1580315,\"logisticid\":[30007,39304,30005,30006]},{\"itemid\":780979340,\"shopid\":176939,\"logisticid\":[30001,30006,39304,30005]},{\"itemid\":690930182,\"shopid\":10936709,\"logisticid\":[30007,30005,30006]},{\"itemid\":668288646,\"shopid\":3274118,\"logisticid\":[30006,30007,39304,30005]},{\"itemid\":937723143,\"shopid\":6796474,\"logisticid\":[30006,39304,30005]},{\"itemid\":763505972,\"shopid\":46219085,\"logisticid\":[30005]},{\"itemid\":755402240,\"shopid\":7880605,\"logisticid\":[39304,39303,30006,30007]},{\"itemid\":599546687,\"shopid\":1817932,\"logisticid\":[39304,30005,39303,30006]},{\"itemid\":962591322,\"shopid\":53054911,\"logisticid\":[39304]},{\"itemid\":930462502,\"shopid\":12448,\"logisticid\":[30006,30007,39304,30005,39303]},{\"itemid\":902825622,\"shopid\":2523168,\"logisticid\":[30006,30007,30005,30001,39304,39303]},{\"itemid\":873958374,\"shopid\":6796474,\"logisticid\":[30006,39304,30005]},{\"itemid\":836854285,\"shopid\":3274118,\"logisticid\":[30005,30006,30007,39304]},{\"itemid\":823563132,\"shopid\":14669577,\"logisticid\":[30005,30006]},{\"itemid\":760191520,\"shopid\":16295631,\"logisticid\":[30006,30005]},{\"itemid\":708305095,\"shopid\":14084056,\"logisticid\":[30006,30007,39304,30005]},{\"itemid\":952966922,\"shopid\":3564025,\"logisticid\":[30005,30001]},{\"itemid\":941719659,\"shopid\":13915867,\"logisticid\":[30006,30005]},{\"itemid\":901985077,\"shopid\":43839500,\"logisticid\":[30005,30001,39304,39303,30006,30007]},{\"itemid\":899714587,\"shopid\":20990061,\"logisticid\":[30006,39304,30005]},{\"itemid\":896158380,\"shopid\":26592040,\"logisticid\":[30006,39304,39303]},{\"itemid\":887634543,\"shopid\":1886239,\"logisticid\":[30006,30005]},{\"itemid\":866009568,\"shopid\":9466363,\"logisticid\":[30005,30001,30006,30007,39304]},{\"itemid\":862150616,\"shopid\":2646347,\"logisticid\":[30006,39304,30005,30001]},{\"itemid\":859146778,\"shopid\":3123569,\"logisticid\":[30005,30006,30007,39303,39304]},{\"itemid\":827088886,\"shopid\":51701199,\"logisticid\":[30005,30006,39304,30001]},{\"itemid\":806226534,\"shopid\":6479608,\"logisticid\":[30007,39303,30001,30005,30006]},{\"itemid\":707982838,\"shopid\":14084056,\"logisticid\":[30007,39304,30005,30006]},{\"itemid\":588296072,\"shopid\":1419401,\"logisticid\":[30006,30007,30005,39303,30001]},{\"itemid\":88487723,\"shopid\":2651322,\"logisticid\":[39303,30006,30007,30005]},{\"itemid\":983997431,\"shopid\":8793687,\"logisticid\":[30007,30001,30005,30006]},{\"itemid\":658669937,\"campaignid\":286735,\"shopid\":4031525,\"adsid\":286735,\"ads_keyword\":\"手機\",\"logisticid\":[30006,30007,39304,30005],\"deduction_info\":\"a3V2NW02MGxxcGxqeWhidA7cSTI0fwHPhF7YXu6omLUK39W8Ep6BpNMqs7ClXp0Xnl1qZVFbNKjQ63ijGMCbEw==\"},{\"itemid\":790338604,\"campaignid\":381212,\"shopid\":49198003,\"adsid\":381111,\"ads_keyword\":\"手機\",\"logisticid\":[30006,39304,30005,39303],\"deduction_info\":\"a3V2NW02MGxxcGxqeWhidO9hRFiYW5af7sSLyltS3dmWtjpcxUb1R4x3EnblM23U11TYcuuKDz4zXYZ0dzxh2A==\"},{\"itemid\":891219167,\"campaignid\":390928,\"shopid\":4067127,\"adsid\":390827,\"ads_keyword\":\"手機\",\"logisticid\":[30005,30006,30007,39303],\"deduction_info\":\"a3V2NW02MGxxcGxqeWhidL8FCGUihPMQOWKs73W7z/7ZFLbN3OLVXR80qxBeMROly/F81zxltzTUFmyuMyLb6g==\"},{\"itemid\":48211966,\"campaignid\":152362,\"shopid\":1494597,\"adsid\":152362,\"ads_keyword\":\"手機\",\"logisticid\":[30006,30007,39304,30005],\"deduction_info\":\"a3V2NW02MGxxcGxqeWhidLNTTCtELBWRq+laju0cDQJ+BUmCdS/HSgphaVEOF4AfOyYJQuqTTQ3p8qZF7Ws/Ew==\"},{\"itemid\":242609117,\"campaignid\":76293,\"shopid\":2841469,\"adsid\":76293,\"ads_keyword\":\"手機\",\"logisticid\":[39304,39303,30006,30007,30005,30001],\"deduction_info\":\"a3V2NW02MGxxcGxqeWhidOKRLjteYFM551Dx7tYkcL1UgJe/FpihqnswPqENEnQMZnKdn6VvS+XHQHvTVTIDHQ==\"}]}')\n",
    "#jd\n",
    "\n",
    "#再將jd，mark，並重新編寫request.post\n",
    "#res=requests.post('https://shopee.tw/api/v1/items/',json=jd)\n",
    "#res#res\n",
    "\n",
    "#結果得到response[403]，表示存取失敗\n",
    "#所以應該加入更多headers的資訊，一步一步慢慢嘗試\n",
    "headers={\n",
    "  'cookie':'cto_lwid=834c8f3c-53da-4d08-ac57-25fd42046a61; _ga=GA1.2.951162321.1516028199; SPC_IA=-1; SPC_EC=-; SPC_U=-; SPC_F=XDvYZA8eWj75kiS7sWmRJuvx4yTWfCOD; REC_T_ID=4b792038-fa04-11e7-9484-d09466041b51; SPC_T_ID=\"NLAHfrWXIORWvzJLQ8C0UdgVPxUAQxb4QFa4F7zPFQVZ6FJxr5Dp0tsyxXQEphRa0h99f+y5qTs7AerpbQuKGbfcTvdMn5FCfA4M7PxVkNs=\"; SPC_T_IV=\"d5xJIZMUEV3kt296KjNc+g==\"; __BWfp=c1516028254731x0e8ac793d; _gac_UA-61915057-6=1.1518008729.CjwKCAiA5OrTBRBlEiwAXXhT6O_d8L6_7RTTvA4WR2LB0PM1b41KCwOdUCejvfGcPngV74xaoeqbiRoCmpMQAvD_BwE; _gid=GA1.2.1563060899.1521040945; _gat=1; csrftoken=Bg3ML75wPo8I3WnL33f91gcrIrfjbbeN; SPC_SI=c7ujsthkozk9jdrj3a2omir8l9bnovtj; SPC_SC_TK=; UYOMAPJWEMDGJ=; SPC_SC_UD=',\n",
    "    'referer':'https://shopee.tw/search/?keyword=%E6%89%8B%E6%A9%9F',\n",
    "    'x-csrftoken':'Bg3ML75wPo8I3WnL33f91gcrIrfjbbeN',\n",
    "   'user-agent':'Mozilla/5.0 (Windows NT 6.1; Win64; x64) AppleWebKit/537.36 (KHTML, like Gecko) Chrome/64.0.3282.186 Safari/537.36'\n",
    "}\n",
    "#重新在res內加入headers\n",
    "res=requests.post('https://shopee.tw/api/v1/items/',json=jd,headers=headers)\n",
    "res \n",
    "#還是得到403，再回到headers內，繼續加入x-csrftoken(記得將它表示成字典格式，也就是用單引號將冒號前後的字分開)，\n",
    "#還是403則繼續加，直到加入referer時結果出現200，表示成功讀取"
   ]
  },
  {
   "cell_type": "code",
   "execution_count": 2,
   "metadata": {},
   "outputs": [
    {
     "ename": "NameError",
     "evalue": "name 'res' is not defined",
     "output_type": "error",
     "traceback": [
      "\u001b[1;31m---------------------------------------------------------------------------\u001b[0m",
      "\u001b[1;31mNameError\u001b[0m                                 Traceback (most recent call last)",
      "\u001b[1;32m<ipython-input-2-8c16daf438a5>\u001b[0m in \u001b[0;36m<module>\u001b[1;34m()\u001b[0m\n\u001b[0;32m      2\u001b[0m \u001b[1;31m#res.text\u001b[0m\u001b[1;33m\u001b[0m\u001b[1;33m\u001b[0m\u001b[0m\n\u001b[0;32m      3\u001b[0m \u001b[1;31m#也可改用json格式去讀取\u001b[0m\u001b[1;33m\u001b[0m\u001b[1;33m\u001b[0m\u001b[0m\n\u001b[1;32m----> 4\u001b[1;33m \u001b[0mres\u001b[0m\u001b[1;33m.\u001b[0m\u001b[0mjson\u001b[0m\u001b[1;33m(\u001b[0m\u001b[1;33m)\u001b[0m\u001b[1;33m\u001b[0m\u001b[0m\n\u001b[0m\u001b[0;32m      5\u001b[0m \u001b[1;31m#回頭看我們的headers的內容，user-agent是表示讓我們像人一樣去瀏覽這個網頁\u001b[0m\u001b[1;33m\u001b[0m\u001b[1;33m\u001b[0m\u001b[0m\n\u001b[0;32m      6\u001b[0m \u001b[1;31m#referer是從哪邊導過來的\u001b[0m\u001b[1;33m\u001b[0m\u001b[1;33m\u001b[0m\u001b[0m\n",
      "\u001b[1;31mNameError\u001b[0m: name 'res' is not defined"
     ]
    }
   ],
   "source": [
    "#將res用文字檔列出來\n",
    "#res.text\n",
    "#也可改用json格式去讀取\n",
    "res.json()\n",
    "#回頭看我們的headers的內容，user-agent是表示讓我們像人一樣去瀏覽這個網頁\n",
    "#referer是從哪邊導過來的\n",
    "#若把cookie，x-csrftoken mark起來會發現無法讀取(result=403)\n",
    "#回到網頁的檢查\\network\\XHR\\cookies，可發現裡面有csrftoken及其他組成的cookie，需要透過API去得到裡面的資訊(沒效益)\n",
    "#最好有一個瀏覽器可以直接開起來，複製這些cookie，當成我們的headers\n",
    "#可借用selenium來達到上面的目的(取得cookie)\n",
    "#回到一開始的地方加入 from selenium import webdriver\n",
    "# driver=webdriver.Chrome()"
   ]
  },
  {
   "cell_type": "code",
   "execution_count": null,
   "metadata": {},
   "outputs": [],
   "source": []
  }
 ],
 "metadata": {
  "kernelspec": {
   "display_name": "Python 3",
   "language": "python",
   "name": "python3"
  },
  "language_info": {
   "codemirror_mode": {
    "name": "ipython",
    "version": 3
   },
   "file_extension": ".py",
   "mimetype": "text/x-python",
   "name": "python",
   "nbconvert_exporter": "python",
   "pygments_lexer": "ipython3",
   "version": "3.6.4"
  }
 },
 "nbformat": 4,
 "nbformat_minor": 2
}
