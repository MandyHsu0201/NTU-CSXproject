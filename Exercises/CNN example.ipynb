{
 "cells": [
  {
   "cell_type": "code",
   "execution_count": 8,
   "metadata": {},
   "outputs": [
    {
     "name": "stdout",
     "output_type": "stream",
     "text": [
      "Downloading http://yann.lecun.com/exdb/mnist/train-images-idx3-ubyte.gz\n",
      "Downloading http://yann.lecun.com/exdb/mnist/train-labels-idx1-ubyte.gz\n",
      "Downloading http://yann.lecun.com/exdb/mnist/t10k-images-idx3-ubyte.gz\n",
      "Downloading http://yann.lecun.com/exdb/mnist/t10k-labels-idx1-ubyte.gz\n",
      "Processing...\n",
      "Done!\n",
      "train_dataset train_data : torch.Size([60000, 28, 28])\n",
      "train_dataset train_labels: torch.Size([60000])\n",
      "test_dataset test_data : torch.Size([10000, 28, 28])\n",
      "test_dataset test_labels : torch.Size([10000])\n"
     ]
    }
   ],
   "source": [
    "import torch\n",
    "import torch.nn as nn\n",
    "import torchvision.transforms as transforms\n",
    "import torchvision.datasets as datasets\n",
    "from torch.autograd import Variable\n",
    "import matplotlib.pyplot as plt \n",
    "\n",
    "# Download MNIST from \n",
    "train_dataset = datasets.MNIST(root=\"./data\",\n",
    "\t\t\t\t\t\t\t   train=True,\n",
    "\t\t\t\t\t\t\t   transform=transforms.ToTensor(),\n",
    "\t\t\t\t\t\t\t   download=True)\n",
    "\n",
    "test_dataset = datasets.MNIST(root=\"./data\",\n",
    "\t\t\t\t\t\t\t  train=False,\n",
    "\t\t\t\t\t\t\t  transform=transforms.ToTensor(),\n",
    "\t\t\t\t\t\t\t  download=True)\n",
    "\n",
    "print(\"train_dataset train_data :\", train_dataset.train_data.size())\n",
    "print(\"train_dataset train_labels:\", train_dataset.train_labels.size())\n",
    "print(\"test_dataset test_data :\", test_dataset.test_data.size())\n",
    "print(\"test_dataset test_labels :\", test_dataset.test_labels.size())"
   ]
  },
  {
   "cell_type": "code",
   "execution_count": 9,
   "metadata": {},
   "outputs": [],
   "source": [
    "batch_size = 100\n",
    "n_iters = 3000\n",
    "num_epochs = n_iters / (len(train_dataset) / batch_size)\n",
    "num_epochs = int(num_epochs)\n",
    "\n",
    "train_loader = torch.utils.data.DataLoader(dataset=train_dataset,\n",
    "\t                                       batch_size=batch_size,\n",
    "\t                                       shuffle=True)\n",
    "\n",
    "test_loader = torch.utils.data.DataLoader(dataset=test_dataset,\n",
    "\t                                      batch_size=batch_size,\n",
    "\t                                      shuffle=True)"
   ]
  },
  {
   "cell_type": "code",
   "execution_count": 11,
   "metadata": {},
   "outputs": [],
   "source": []
  },
  {
   "cell_type": "code",
   "execution_count": null,
   "metadata": {},
   "outputs": [],
   "source": []
  }
 ],
 "metadata": {
  "kernelspec": {
   "display_name": "Python 3",
   "language": "python",
   "name": "python3"
  },
  "language_info": {
   "codemirror_mode": {
    "name": "ipython",
    "version": 3
   },
   "file_extension": ".py",
   "mimetype": "text/x-python",
   "name": "python",
   "nbconvert_exporter": "python",
   "pygments_lexer": "ipython3",
   "version": "3.6.4"
  }
 },
 "nbformat": 4,
 "nbformat_minor": 2
}
